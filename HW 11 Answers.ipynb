{
 "cells": [
  {
   "cell_type": "code",
   "execution_count": 1,
   "metadata": {},
   "outputs": [],
   "source": [
    "import pandas as pd\n",
    "import numpy as np"
   ]
  },
  {
   "cell_type": "code",
   "execution_count": 2,
   "metadata": {},
   "outputs": [
    {
     "name": "stdout",
     "output_type": "stream",
     "text": [
      "             Open                                                          \\\n",
      "Name         AABA   AAPL   AMZN    AXP     BA    CAT   CSCO    CVX    DIS   \n",
      "Date                                                                        \n",
      "2006-01-03  39.69  10.34  47.47  51.70  70.40  57.87  17.21  57.25  24.08   \n",
      "2006-01-04  41.22  10.73  47.48  52.44  70.08  57.95  17.48  59.08  24.50   \n",
      "2006-01-05  40.93  10.69  47.16  51.90  70.55  59.02  17.94  58.68  24.13   \n",
      "2006-01-06  42.88  10.75  47.97  52.64  70.34  59.47  18.51  58.95  24.65   \n",
      "2006-01-09  43.10  10.96  46.55  52.82  69.28  60.45  18.97  59.49  24.85   \n",
      "2006-01-10  42.96  10.89  46.41  53.58  68.80  61.35  18.87  58.76  25.02   \n",
      "2006-01-11  42.19  11.98  45.65  53.70  69.97  60.87  18.98  59.22  25.38   \n",
      "2006-01-12  41.92  12.14  44.79  53.58  70.25  61.23  19.27  60.00  25.65   \n",
      "2006-01-13  41.00  12.14  44.48  53.70  69.64  62.02  19.13  59.89  25.61   \n",
      "2006-01-17  39.09  12.24  43.95  53.08  69.07  61.69  18.70  60.90  25.83   \n",
      "\n",
      "                      ...           Volume                                     \\\n",
      "Name           GE     ...             MSFT         NKE         PFE         PG   \n",
      "Date                  ...                                                       \n",
      "2006-01-03  35.10     ...       79974418.0  18468800.0  38052400.0  9741600.0   \n",
      "2006-01-04  35.35     ...       57975661.0  15832000.0  43972000.0  6746400.0   \n",
      "2006-01-05  35.27     ...       48247610.0   9256000.0  42601900.0  8936100.0   \n",
      "2006-01-06  35.38     ...      100969092.0   7573600.0  28523900.0  8826300.0   \n",
      "2006-01-09  35.40     ...       55627836.0  10441600.0  28080300.0  7715700.0   \n",
      "2006-01-10  35.27     ...       64924946.0  11837600.0  28630300.0  8553600.0   \n",
      "2006-01-11  35.14     ...       70123544.0  10372800.0  28433800.0  8791800.0   \n",
      "2006-01-12  35.45     ...       45994725.0  11159200.0  27020300.0  6612800.0   \n",
      "2006-01-13  34.90     ...       41449046.0   9612000.0  20972000.0  7146800.0   \n",
      "2006-01-17  35.63     ...       58574807.0  11075200.0  32153700.0  5299200.0   \n",
      "\n",
      "                                                                      \\\n",
      "Name              TRV         UNH        UTX          VZ         WMT   \n",
      "Date                                                                   \n",
      "2006-01-03  3843800.0   8070600.0  3716500.0  12903800.0  23413900.0   \n",
      "2006-01-04  2285900.0   5587100.0  3114500.0  31004500.0  14090700.0   \n",
      "2006-01-05  3069300.0   5626000.0  3118900.0  20664000.0  20759200.0   \n",
      "2006-01-06  2641500.0   5577800.0  2874300.0  57704300.0  21135000.0   \n",
      "2006-01-09  2201500.0   8831000.0  2467200.0  17600000.0  14890700.0   \n",
      "2006-01-10  1739000.0   6238100.0  3677300.0  30254800.0  13422500.0   \n",
      "2006-01-11  2425500.0   5519600.0  3161100.0  19609600.0  14179400.0   \n",
      "2006-01-12  2501900.0   5374100.0  4025300.0  24601600.0  11425700.0   \n",
      "2006-01-13  1719600.0  11005800.0  2136600.0  20380200.0  10260500.0   \n",
      "2006-01-17  2130800.0   6333200.0  3092600.0  18634600.0  17118300.0   \n",
      "\n",
      "                        \n",
      "Name               XOM  \n",
      "Date                    \n",
      "2006-01-03  23873200.0  \n",
      "2006-01-04  19086600.0  \n",
      "2006-01-05  17158600.0  \n",
      "2006-01-06  17370000.0  \n",
      "2006-01-09  17339500.0  \n",
      "2006-01-10  17913400.0  \n",
      "2006-01-11  17327100.0  \n",
      "2006-01-12  21130500.0  \n",
      "2006-01-13  17075900.0  \n",
      "2006-01-17  18193400.0  \n",
      "\n",
      "[10 rows x 155 columns]\n",
      "[('Open', 'AABA'), ('Open', 'AAPL'), ('Open', 'AMZN'), ('Open', 'AXP'), ('Open', 'BA'), ('Open', 'CAT'), ('Open', 'CSCO'), ('Open', 'CVX'), ('Open', 'DIS'), ('Open', 'GE'), ('Open', 'GOOGL'), ('Open', 'GS'), ('Open', 'HD'), ('Open', 'IBM'), ('Open', 'INTC'), ('Open', 'JNJ'), ('Open', 'JPM'), ('Open', 'KO'), ('Open', 'MCD'), ('Open', 'MMM'), ('Open', 'MRK'), ('Open', 'MSFT'), ('Open', 'NKE'), ('Open', 'PFE'), ('Open', 'PG'), ('Open', 'TRV'), ('Open', 'UNH'), ('Open', 'UTX'), ('Open', 'VZ'), ('Open', 'WMT'), ('Open', 'XOM'), ('High', 'AABA'), ('High', 'AAPL'), ('High', 'AMZN'), ('High', 'AXP'), ('High', 'BA'), ('High', 'CAT'), ('High', 'CSCO'), ('High', 'CVX'), ('High', 'DIS'), ('High', 'GE'), ('High', 'GOOGL'), ('High', 'GS'), ('High', 'HD'), ('High', 'IBM'), ('High', 'INTC'), ('High', 'JNJ'), ('High', 'JPM'), ('High', 'KO'), ('High', 'MCD'), ('High', 'MMM'), ('High', 'MRK'), ('High', 'MSFT'), ('High', 'NKE'), ('High', 'PFE'), ('High', 'PG'), ('High', 'TRV'), ('High', 'UNH'), ('High', 'UTX'), ('High', 'VZ'), ('High', 'WMT'), ('High', 'XOM'), ('Low', 'AABA'), ('Low', 'AAPL'), ('Low', 'AMZN'), ('Low', 'AXP'), ('Low', 'BA'), ('Low', 'CAT'), ('Low', 'CSCO'), ('Low', 'CVX'), ('Low', 'DIS'), ('Low', 'GE'), ('Low', 'GOOGL'), ('Low', 'GS'), ('Low', 'HD'), ('Low', 'IBM'), ('Low', 'INTC'), ('Low', 'JNJ'), ('Low', 'JPM'), ('Low', 'KO'), ('Low', 'MCD'), ('Low', 'MMM'), ('Low', 'MRK'), ('Low', 'MSFT'), ('Low', 'NKE'), ('Low', 'PFE'), ('Low', 'PG'), ('Low', 'TRV'), ('Low', 'UNH'), ('Low', 'UTX'), ('Low', 'VZ'), ('Low', 'WMT'), ('Low', 'XOM'), ('Close', 'AABA'), ('Close', 'AAPL'), ('Close', 'AMZN'), ('Close', 'AXP'), ('Close', 'BA'), ('Close', 'CAT'), ('Close', 'CSCO'), ('Close', 'CVX'), ('Close', 'DIS'), ('Close', 'GE'), ('Close', 'GOOGL'), ('Close', 'GS'), ('Close', 'HD'), ('Close', 'IBM'), ('Close', 'INTC'), ('Close', 'JNJ'), ('Close', 'JPM'), ('Close', 'KO'), ('Close', 'MCD'), ('Close', 'MMM'), ('Close', 'MRK'), ('Close', 'MSFT'), ('Close', 'NKE'), ('Close', 'PFE'), ('Close', 'PG'), ('Close', 'TRV'), ('Close', 'UNH'), ('Close', 'UTX'), ('Close', 'VZ'), ('Close', 'WMT'), ('Close', 'XOM'), ('Volume', 'AABA'), ('Volume', 'AAPL'), ('Volume', 'AMZN'), ('Volume', 'AXP'), ('Volume', 'BA'), ('Volume', 'CAT'), ('Volume', 'CSCO'), ('Volume', 'CVX'), ('Volume', 'DIS'), ('Volume', 'GE'), ('Volume', 'GOOGL'), ('Volume', 'GS'), ('Volume', 'HD'), ('Volume', 'IBM'), ('Volume', 'INTC'), ('Volume', 'JNJ'), ('Volume', 'JPM'), ('Volume', 'KO'), ('Volume', 'MCD'), ('Volume', 'MMM'), ('Volume', 'MRK'), ('Volume', 'MSFT'), ('Volume', 'NKE'), ('Volume', 'PFE'), ('Volume', 'PG'), ('Volume', 'TRV'), ('Volume', 'UNH'), ('Volume', 'UTX'), ('Volume', 'VZ'), ('Volume', 'WMT'), ('Volume', 'XOM')]\n"
     ]
    }
   ],
   "source": [
    "df = pd.read_csv('datasets/stocks/DJIA.csv')\n",
    "df\n",
    "stocks = df.pivot('Date', 'Name')\n",
    "print(stocks.head(10))\n",
    "print(list(stocks.columns.values))"
   ]
  },
  {
   "cell_type": "code",
   "execution_count": 3,
   "metadata": {},
   "outputs": [
    {
     "data": {
      "text/plain": [
       "Date\n",
       "2006-01-03    79.35\n",
       "2006-01-04    79.49\n",
       "2006-01-05    78.65\n",
       "2006-01-06    78.90\n",
       "2006-01-09    79.83\n",
       "Name: (High, MMM), dtype: float64"
      ]
     },
     "execution_count": 3,
     "metadata": {},
     "output_type": "execute_result"
    }
   ],
   "source": [
    "stocks[('High', 'MMM')].head()"
   ]
  },
  {
   "cell_type": "code",
   "execution_count": 4,
   "metadata": {},
   "outputs": [],
   "source": [
    "# Create variables for lead in 7 days:\n",
    "target  = stocks[('High', 'MMM')].shift(-7)\n",
    "features =  stocks.values\n",
    "target = target.values"
   ]
  },
  {
   "cell_type": "code",
   "execution_count": 5,
   "metadata": {},
   "outputs": [
    {
     "data": {
      "text/plain": [
       "array([236.54, 237.08, 237.31,    nan,    nan,    nan,    nan,    nan,\n",
       "          nan])"
      ]
     },
     "execution_count": 5,
     "metadata": {},
     "output_type": "execute_result"
    }
   ],
   "source": [
    "target[-10:-1]"
   ]
  },
  {
   "cell_type": "code",
   "execution_count": 6,
   "metadata": {},
   "outputs": [
    {
     "data": {
      "text/plain": [
       "array([[3013],\n",
       "       [3014],\n",
       "       [3015],\n",
       "       [3016],\n",
       "       [3017],\n",
       "       [3018],\n",
       "       [3019]], dtype=int64)"
      ]
     },
     "execution_count": 6,
     "metadata": {},
     "output_type": "execute_result"
    }
   ],
   "source": [
    "np.argwhere(np.isnan(target))"
   ]
  },
  {
   "cell_type": "code",
   "execution_count": 7,
   "metadata": {},
   "outputs": [
    {
     "data": {
      "text/plain": [
       "array([[ 907,   20],\n",
       "       [ 907,   51],\n",
       "       [ 907,   82],\n",
       "       [ 907,  113],\n",
       "       [ 907,  144],\n",
       "       [1068,    0],\n",
       "       [1068,    1],\n",
       "       [1068,    2],\n",
       "       [1068,    6],\n",
       "       [1068,   10],\n",
       "       [1068,   14],\n",
       "       [1068,   21],\n",
       "       [1068,   31],\n",
       "       [1068,   32],\n",
       "       [1068,   33],\n",
       "       [1068,   37],\n",
       "       [1068,   41],\n",
       "       [1068,   45],\n",
       "       [1068,   52],\n",
       "       [1068,   62],\n",
       "       [1068,   63],\n",
       "       [1068,   64],\n",
       "       [1068,   68],\n",
       "       [1068,   72],\n",
       "       [1068,   76],\n",
       "       [1068,   83],\n",
       "       [1068,   93],\n",
       "       [1068,   94],\n",
       "       [1068,   95],\n",
       "       [1068,   99],\n",
       "       [1068,  103],\n",
       "       [1068,  107],\n",
       "       [1068,  114],\n",
       "       [1068,  124],\n",
       "       [1068,  125],\n",
       "       [1068,  126],\n",
       "       [1068,  130],\n",
       "       [1068,  134],\n",
       "       [1068,  138],\n",
       "       [1068,  145],\n",
       "       [1657,    8],\n",
       "       [1657,   39],\n",
       "       [1657,   70],\n",
       "       [2913,    3],\n",
       "       [2913,    4],\n",
       "       [2913,    5],\n",
       "       [2913,    7],\n",
       "       [2913,    8],\n",
       "       [2913,    9],\n",
       "       [2913,   11],\n",
       "       [2913,   12],\n",
       "       [2913,   13],\n",
       "       [2913,   15],\n",
       "       [2913,   16],\n",
       "       [2913,   17],\n",
       "       [2913,   18],\n",
       "       [2913,   19],\n",
       "       [2913,   20],\n",
       "       [2913,   22],\n",
       "       [2913,   23],\n",
       "       [2913,   24],\n",
       "       [2913,   25],\n",
       "       [2913,   26],\n",
       "       [2913,   27],\n",
       "       [2913,   28],\n",
       "       [2913,   29],\n",
       "       [2913,   30],\n",
       "       [2913,   35],\n",
       "       [2913,   36],\n",
       "       [2913,   48],\n",
       "       [2913,   49],\n",
       "       [2913,   51],\n",
       "       [2913,   54],\n",
       "       [2913,   56],\n",
       "       [2913,   57],\n",
       "       [2913,   60],\n",
       "       [2913,   65],\n",
       "       [2913,   66],\n",
       "       [2913,   67],\n",
       "       [2913,   69],\n",
       "       [2913,   70],\n",
       "       [2913,   71],\n",
       "       [2913,   73],\n",
       "       [2913,   74],\n",
       "       [2913,   75],\n",
       "       [2913,   77],\n",
       "       [2913,   78],\n",
       "       [2913,   81],\n",
       "       [2913,   85],\n",
       "       [2913,   86],\n",
       "       [2913,   87],\n",
       "       [2913,   88],\n",
       "       [2913,   90],\n",
       "       [2913,   91],\n",
       "       [2913,   92]], dtype=int64)"
      ]
     },
     "execution_count": 7,
     "metadata": {},
     "output_type": "execute_result"
    }
   ],
   "source": [
    "np.argwhere(np.isnan(features))"
   ]
  },
  {
   "cell_type": "code",
   "execution_count": 8,
   "metadata": {},
   "outputs": [],
   "source": [
    "from sklearn.impute import SimpleImputer\n",
    "imp = SimpleImputer(strategy='mean')\n",
    "X_imp = imp.fit_transform(features)   "
   ]
  },
  {
   "cell_type": "code",
   "execution_count": 9,
   "metadata": {},
   "outputs": [],
   "source": [
    "# Normilize data, drop NaN obs\n",
    "X_imp = X_imp[:-8,]\n",
    "target = target[:-8,]\n",
    "import sklearn.preprocessing\n",
    "X_norm = sklearn.preprocessing.normalize(X_imp)"
   ]
  },
  {
   "cell_type": "code",
   "execution_count": 10,
   "metadata": {},
   "outputs": [
    {
     "data": {
      "text/plain": [
       "Date\n",
       "2006-01-03    79.35\n",
       "2006-01-04    79.49\n",
       "2006-01-05    78.65\n",
       "2006-01-06    78.90\n",
       "2006-01-09    79.83\n",
       "Name: (High, MMM), dtype: float64"
      ]
     },
     "execution_count": 10,
     "metadata": {},
     "output_type": "execute_result"
    }
   ],
   "source": [
    "stocks[('High', 'MMM')].head()"
   ]
  },
  {
   "cell_type": "code",
   "execution_count": 11,
   "metadata": {},
   "outputs": [
    {
     "data": {
      "text/plain": [
       "array([78.2 , 77.62, 77.28, 77.37, 76.91, 76.23])"
      ]
     },
     "execution_count": 11,
     "metadata": {},
     "output_type": "execute_result"
    }
   ],
   "source": [
    "target[1:7]"
   ]
  },
  {
   "cell_type": "code",
   "execution_count": 12,
   "metadata": {},
   "outputs": [
    {
     "data": {
      "text/plain": [
       "Date\n",
       "2006-01-13    78.20\n",
       "2006-01-17    77.62\n",
       "2006-01-18    77.28\n",
       "2006-01-19    77.37\n",
       "2006-01-20    76.91\n",
       "2006-01-23    76.23\n",
       "2006-01-24    75.60\n",
       "Name: (High, MMM), dtype: float64"
      ]
     },
     "execution_count": 12,
     "metadata": {},
     "output_type": "execute_result"
    }
   ],
   "source": [
    "stocks[('High', 'MMM')][8:15]"
   ]
  },
  {
   "cell_type": "markdown",
   "metadata": {},
   "source": [
    "# Problem 1. \n",
    "Scale the data. Use 10000 iterations with 30 steps to predict target using RNN with 3 neural layers with 100 neurons each [100,100,100].Use learning_rate = 0.001.\n",
    "\n",
    "a. Generate predicted price from the model. \n",
    "b. Calculate expected profit from 7 day investement\n",
    "c. Find 10 days with best expected rate of 7 day investement\n",
    "d. calculate expected and observed profit for these 10 best investement days\n",
    "e. Find average expected and realized profit for all days in the data"
   ]
  },
  {
   "cell_type": "code",
   "execution_count": 13,
   "metadata": {},
   "outputs": [],
   "source": [
    "import tensorflow as tf\n",
    "def reset_graph(seed=42):\n",
    "    tf.reset_default_graph()\n",
    "    tf.set_random_seed(seed)\n",
    "    np.random.seed(seed)\n",
    "\n",
    "reset_graph()\n",
    "\n",
    "\n",
    "n_steps = 30\n",
    "n_inputs = len(stocks.columns)\n",
    "n_neurons = 50\n",
    "n_outputs = 1\n",
    "learning_rate = 0.001\n",
    "batch_size = 1\n",
    "\n",
    "\n",
    "X = tf.placeholder(tf.float32, [None, n_steps, n_inputs])\n",
    "y = tf.placeholder(tf.float32, [None, n_steps, n_outputs])\n",
    "\n",
    "\n",
    "\n",
    "n_neurons = 100\n",
    "n_layers = 3\n",
    "\n",
    "layers = [tf.contrib.rnn.BasicRNNCell(num_units=n_neurons)\n",
    "          for layer in range(n_layers)]\n",
    "multi_layer_cell = tf.contrib.rnn.MultiRNNCell(layers)\n",
    "rnn_outputs, states = tf.nn.dynamic_rnn(multi_layer_cell, X, dtype=tf.float32)\n",
    "init = tf.global_variables_initializer()\n",
    "\n",
    "\n",
    "\n",
    "\n",
    "#cell = tf.contrib.rnn.BasicRNNCell(num_units=n_neurons, activation=tf.nn.relu)\n",
    "#rnn_outputs, states = tf.nn.dynamic_rnn(cell, X, dtype=tf.float32)\n",
    "learning_rate = 0.001\n",
    "# Get output from reshaping the neurons\n",
    "stacked_rnn_outputs = tf.reshape(rnn_outputs, [-1, n_neurons])\n",
    "stacked_outputs = tf.layers.dense(stacked_rnn_outputs, n_outputs)\n",
    "outputs = tf.reshape(stacked_outputs, [batch_size, n_steps, n_outputs])\n",
    "loss = tf.reduce_mean(tf.square(outputs - y))\n",
    "optimizer = tf.train.AdamOptimizer(learning_rate=learning_rate)\n",
    "training_op = optimizer.minimize(loss)\n",
    "\n",
    "init = tf.global_variables_initializer()\n",
    "saver = tf.train.Saver()"
   ]
  },
  {
   "cell_type": "code",
   "execution_count": 26,
   "metadata": {},
   "outputs": [
    {
     "data": {
      "text/plain": [
       "array([ 0.,  1.,  2.,  3.,  4.,  5.,  6.,  7.,  8.,  9., 10., 11., 12.,\n",
       "       13., 14., 15., 16., 17., 18., 19., 20., 21., 22., 23., 24., 25.,\n",
       "       26., 27., 28., 29.])"
      ]
     },
     "execution_count": 26,
     "metadata": {},
     "output_type": "execute_result"
    }
   ],
   "source": [
    "np.arange(0., n_steps)"
   ]
  },
  {
   "cell_type": "code",
   "execution_count": 24,
   "metadata": {},
   "outputs": [],
   "source": [
    "def next_batch(X, y, batch_size, n_steps):\n",
    "    lenst = len(X) - n_steps\n",
    "    ns = batch_size // n_steps\n",
    "    t0 = np.round(np.random.rand(batch_size, 1) * lenst)\n",
    "    print(t0)\n",
    "    Ts = t0.astype(int) + np.arange(0., n_steps)\n",
    "    print(Ts)\n",
    "    Xs = X[Ts.astype(int)]\n",
    "    ys =y[Ts.astype(int)] \n",
    "    ys = ys.reshape(batch_size, n_steps, n_outputs)\n",
    "    return Xs, ys\n",
    "\n"
   ]
  },
  {
   "cell_type": "code",
   "execution_count": 25,
   "metadata": {},
   "outputs": [
    {
     "name": "stdout",
     "output_type": "stream",
     "text": [
      "[[1793.]]\n",
      "[[1793. 1794. 1795. 1796. 1797. 1798. 1799. 1800. 1801. 1802. 1803. 1804.\n",
      "  1805. 1806. 1807. 1808. 1809. 1810. 1811. 1812. 1813. 1814. 1815. 1816.\n",
      "  1817. 1818. 1819. 1820. 1821. 1822.]]\n"
     ]
    },
    {
     "data": {
      "text/plain": [
       "(array([[[1.44223245e-07, 4.51734908e-07, 1.82360452e-06, ...,\n",
       "          6.61006814e-02, 1.00698562e-01, 8.33912859e-02],\n",
       "         [1.33590507e-07, 4.09861441e-07, 1.69385992e-06, ...,\n",
       "          1.45927135e-01, 7.50755138e-02, 8.73703979e-02],\n",
       "         [1.31640558e-07, 4.00899616e-07, 1.66828608e-06, ...,\n",
       "          9.51339634e-02, 1.28533180e-01, 6.88452684e-02],\n",
       "         ...,\n",
       "         [1.60417223e-07, 4.36242519e-07, 1.80457495e-06, ...,\n",
       "          9.21228521e-02, 5.00330591e-02, 1.18719661e-01],\n",
       "         [1.87465522e-07, 5.07709069e-07, 2.14712763e-06, ...,\n",
       "          5.57216373e-02, 6.76845996e-02, 7.57306343e-02],\n",
       "         [1.53240606e-07, 3.93835448e-07, 1.69164219e-06, ...,\n",
       "          7.78987884e-02, 4.28245990e-02, 6.44161745e-02]]]), array([[[104.56],\n",
       "         [103.94],\n",
       "         [103.51],\n",
       "         [104.81],\n",
       "         [105.42],\n",
       "         [105.16],\n",
       "         [105.81],\n",
       "         [105.96],\n",
       "         [105.98],\n",
       "         [105.57],\n",
       "         [106.02],\n",
       "         [106.88],\n",
       "         [105.96],\n",
       "         [105.98],\n",
       "         [106.17],\n",
       "         [105.46],\n",
       "         [106.48],\n",
       "         [106.8 ],\n",
       "         [106.22],\n",
       "         [105.5 ],\n",
       "         [106.34],\n",
       "         [106.17],\n",
       "         [106.8 ],\n",
       "         [106.97],\n",
       "         [106.22],\n",
       "         [105.88],\n",
       "         [106.42],\n",
       "         [106.69],\n",
       "         [107.93],\n",
       "         [108.72]]]))"
      ]
     },
     "execution_count": 25,
     "metadata": {},
     "output_type": "execute_result"
    }
   ],
   "source": [
    "next_batch(X_norm, target, 1, 30)"
   ]
  },
  {
   "cell_type": "code",
   "execution_count": 90,
   "metadata": {},
   "outputs": [
    {
     "name": "stdout",
     "output_type": "stream",
     "text": [
      "0 \tMSE: 6775.983\n",
      "1000 \tMSE: 2.860226\n",
      "2000 \tMSE: 3477.7698\n",
      "3000 \tMSE: 470.9737\n",
      "4000 \tMSE: 360.66882\n",
      "5000 \tMSE: 570.43134\n",
      "6000 \tMSE: 137.59593\n",
      "7000 \tMSE: 870.5533\n",
      "8000 \tMSE: 94.6551\n",
      "9000 \tMSE: 2130.4744\n",
      "10000 \tMSE: 117.50547\n",
      "11000 \tMSE: 13.164642\n",
      "12000 \tMSE: 1584.3151\n",
      "13000 \tMSE: 1523.7328\n",
      "14000 \tMSE: 331.80368\n",
      "15000 \tMSE: 67.807785\n",
      "16000 \tMSE: 235.74525\n",
      "17000 \tMSE: 370.82623\n",
      "18000 \tMSE: 814.92267\n",
      "19000 \tMSE: 719.9538\n",
      "20000 \tMSE: 918.8492\n",
      "21000 \tMSE: 3882.6304\n",
      "22000 \tMSE: 88.95957\n",
      "23000 \tMSE: 63.283436\n",
      "24000 \tMSE: 2162.7827\n",
      "25000 \tMSE: 30.026548\n",
      "26000 \tMSE: 15.964908\n",
      "27000 \tMSE: 38.997353\n",
      "28000 \tMSE: 537.40924\n",
      "29000 \tMSE: 309.56345\n",
      "30000 \tMSE: 663.8472\n",
      "31000 \tMSE: 53.518726\n",
      "32000 \tMSE: 18.83415\n",
      "33000 \tMSE: 151.18892\n",
      "34000 \tMSE: 11.603282\n",
      "35000 \tMSE: 724.2664\n",
      "36000 \tMSE: 205.19127\n",
      "37000 \tMSE: 10.854187\n",
      "38000 \tMSE: 717.79803\n",
      "39000 \tMSE: 176.65894\n",
      "40000 \tMSE: 60.14807\n",
      "41000 \tMSE: 69.584\n",
      "42000 \tMSE: 577.0596\n",
      "43000 \tMSE: 94.43303\n",
      "44000 \tMSE: 42.351643\n",
      "45000 \tMSE: 66.521385\n",
      "46000 \tMSE: 133.74275\n",
      "47000 \tMSE: 335.5619\n",
      "48000 \tMSE: 1695.9193\n",
      "49000 \tMSE: 253.78987\n"
     ]
    }
   ],
   "source": [
    "n_steps = 30\n",
    "n_inputs = len(stocks.columns)\n",
    "n_neurons = 50\n",
    "n_outputs = 1\n",
    "learning_rate = 0.0001\n",
    "batch_size = 1\n",
    "n_iterations = 50000\n",
    "\n",
    "# Batch size of 50. \n",
    "with tf.Session() as sess:\n",
    "    init.run()\n",
    "    for iteration in range(n_iterations):\n",
    "        X_batch, y_batch = next_batch(X_norm, target, batch_size, n_steps)\n",
    "        sess.run(training_op, feed_dict={X: X_batch, y: y_batch})\n",
    "        if iteration % 1000 == 0:\n",
    "            mse = loss.eval(feed_dict={X: X_batch, y: y_batch})\n",
    "            print(iteration, \"\\tMSE:\", mse)\n",
    "    y_pred = sess.run(outputs, feed_dict={X: X_batch})\n",
    "    saver.save(sess, \"./stock_p1\")\n",
    "\n",
    "    \n",
    "        "
   ]
  },
  {
   "cell_type": "markdown",
   "metadata": {},
   "source": [
    "# Problem 2. \n",
    "Predict price MMM based on the model estimated in Problem 1. Pick 10 best dates to invest in MMM (largest difference between current price of MMM and the price of MMM in 7 days). What is the expected and realized return on this investments?"
   ]
  },
  {
   "cell_type": "code",
   "execution_count": 91,
   "metadata": {},
   "outputs": [
    {
     "name": "stdout",
     "output_type": "stream",
     "text": [
      "INFO:tensorflow:Restoring parameters from ./stock_p1\n"
     ]
    }
   ],
   "source": [
    "n_steps = 30\n",
    "n_inputs = len(stocks.columns)\n",
    "n_neurons = 50\n",
    "n_outputs = 1\n",
    "learning_rate = 0.001\n",
    "batch_size = 1\n",
    "n_iterations = 100\n",
    "lenX = len(X_norm) \n",
    "a = (np.zeros(shape=(lenX)))\n",
    "with tf.Session() as sess:                        # not shown in the book\n",
    "    saver.restore(sess, \"./stock_p1\")\n",
    "    lenst = len(X_norm) - n_steps\n",
    "    j = 30\n",
    "    i = 0\n",
    "    while j < lenX:\n",
    "        j = i + 30\n",
    "        sh =  X_norm[i:j, :n_inputs].shape\n",
    "        sh = int(sh[0])\n",
    "        tar =  n_steps\n",
    "        if sh < tar: break\n",
    "        X_n= X_norm[i:j, :n_inputs].reshape(1, n_steps, n_inputs)\n",
    "        y_pred = sess.run(outputs, feed_dict={X: X_n})\n",
    "        y_pred = y_pred.flatten()\n",
    "        a[i:j] = y_pred\n",
    "        i = i + 30\n",
    "    \n",
    "        \n",
    "    "
   ]
  },
  {
   "cell_type": "code",
   "execution_count": 92,
   "metadata": {},
   "outputs": [
    {
     "data": {
      "text/plain": [
       "(3012,)"
      ]
     },
     "execution_count": 92,
     "metadata": {},
     "output_type": "execute_result"
    }
   ],
   "source": [
    "target.shape"
   ]
  },
  {
   "cell_type": "code",
   "execution_count": 93,
   "metadata": {},
   "outputs": [
    {
     "data": {
      "text/plain": [
       "(3020,)"
      ]
     },
     "execution_count": 93,
     "metadata": {},
     "output_type": "execute_result"
    }
   ],
   "source": [
    "inv = stocks[('High', 'MMM')]\n",
    "inv.shape"
   ]
  },
  {
   "cell_type": "code",
   "execution_count": 94,
   "metadata": {},
   "outputs": [],
   "source": [
    "# drop 12 observations dropped when we did not have the last 30 days\n",
    "y = target[:-12,]\n",
    "inv = stocks[('High', 'MMM')]\n",
    "# Investment price, drop first 7 days and last 12 days.\n",
    "price0 = inv[:-20,]\n",
    "price7 = target[:-12]\n",
    "# Predicted y_hat, drop last 12 days as zeros. \n",
    "y_hat = a[:-12]"
   ]
  },
  {
   "cell_type": "code",
   "execution_count": 95,
   "metadata": {},
   "outputs": [],
   "source": [
    "import pandas\n",
    "dataset = pd.DataFrame({'price0':price0,'price7':y, 'price7_hat':y_hat})"
   ]
  },
  {
   "cell_type": "code",
   "execution_count": 96,
   "metadata": {},
   "outputs": [
    {
     "data": {
      "text/plain": [
       "(3000,)"
      ]
     },
     "execution_count": 96,
     "metadata": {},
     "output_type": "execute_result"
    }
   ],
   "source": [
    "y_hat.shape"
   ]
  },
  {
   "cell_type": "code",
   "execution_count": 97,
   "metadata": {},
   "outputs": [],
   "source": [
    "dataset[\"exp_profit\"] = 100 * (dataset[\"price7_hat\"] -  dataset[\"price0\"] )/ dataset[\"price0\"]\n",
    "dataset[\"profit\"] = 100 * (dataset[\"price7\"] -  dataset[\"price0\"] )/ dataset[\"price0\"] "
   ]
  },
  {
   "cell_type": "code",
   "execution_count": 98,
   "metadata": {},
   "outputs": [
    {
     "data": {
      "text/plain": [
       "price0         70.024000\n",
       "price7         72.571000\n",
       "price7_hat    122.283787\n",
       "exp_profit     73.656212\n",
       "profit          5.108711\n",
       "dtype: float64"
      ]
     },
     "execution_count": 98,
     "metadata": {},
     "output_type": "execute_result"
    }
   ],
   "source": [
    "dataset.nlargest(10, 'exp_profit').mean()"
   ]
  },
  {
   "cell_type": "code",
   "execution_count": 99,
   "metadata": {},
   "outputs": [
    {
     "data": {
      "text/plain": [
       "0.3085080323132474"
      ]
     },
     "execution_count": 99,
     "metadata": {},
     "output_type": "execute_result"
    }
   ],
   "source": [
    "dataset[\"profit\"].mean()"
   ]
  },
  {
   "cell_type": "code",
   "execution_count": 100,
   "metadata": {},
   "outputs": [
    {
     "data": {
      "text/plain": [
       "1.1752938920301241"
      ]
     },
     "execution_count": 100,
     "metadata": {},
     "output_type": "execute_result"
    }
   ],
   "source": [
    "dataset[\"exp_profit\"].mean()"
   ]
  },
  {
   "cell_type": "code",
   "execution_count": 101,
   "metadata": {},
   "outputs": [
    {
     "data": {
      "text/plain": [
       "price0        111.769097\n",
       "price7        112.148370\n",
       "price7_hat    110.889058\n",
       "exp_profit      1.175294\n",
       "profit          0.308508\n",
       "dtype: float64"
      ]
     },
     "execution_count": 101,
     "metadata": {},
     "output_type": "execute_result"
    }
   ],
   "source": [
    "dataset.mean()"
   ]
  },
  {
   "cell_type": "markdown",
   "metadata": {},
   "source": [
    "# Answer\n",
    "For the best 10 days our model predicts average profits of 73.6%, but real average profits over these 10 days are just 5.1%.\n",
    "Average profit rate for 7 day investment over all periods is 0.3%, while the expected profit is 1.17%. "
   ]
  },
  {
   "cell_type": "code",
   "execution_count": null,
   "metadata": {},
   "outputs": [],
   "source": []
  }
 ],
 "metadata": {
  "kernelspec": {
   "display_name": "Python 3",
   "language": "python",
   "name": "python3"
  },
  "language_info": {
   "codemirror_mode": {
    "name": "ipython",
    "version": 3
   },
   "file_extension": ".py",
   "mimetype": "text/x-python",
   "name": "python",
   "nbconvert_exporter": "python",
   "pygments_lexer": "ipython3",
   "version": "3.7.1"
  }
 },
 "nbformat": 4,
 "nbformat_minor": 2
}
