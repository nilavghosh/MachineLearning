{
 "cells": [
  {
   "cell_type": "code",
   "execution_count": 5,
   "metadata": {},
   "outputs": [],
   "source": [
    "class Grammar:\n",
    "    def __init__(self, terminals, non_terminals, start = 'S', empty = \"empty\"):\n",
    "        self.start = start\n",
    "        self.terminals = terminals\n",
    "        self.non_terminals = non_terminals\n",
    "        self.empty = empty\n",
    "        self.production_rules = []\n",
    "    def add_rule(self, r):\n",
    "        self.production_rules.append(r)\n",
    "        #TODO CHECK THAT R IS A VALID RULE\n",
    "        #for r in self.production_rules:\n",
    "            #lhs, rhs = r #unpacking \n",
    "            #for case in rhs:\n",
    "                #if self.start in case:\n",
    "                    \n",
    "                    #print(lhs, case)\n",
    "    def remove_rhs_start(self):\n",
    "        self.production_rules.append(['S0', [self.start]])\n",
    "        self.start = 'S0'\n",
    "        \n",
    "    def remove_null(self):\n",
    "        self.production_rules.append(['S', [self.empty]])\n",
    "        #identify nullable variables on lhs \n",
    "        #\n",
    "        pass\n",
    "    \n",
    "    def remove_unit(self):\n",
    "        pass\n",
    "    \n",
    "    def remove_term_nonterm_pairs(self):\n",
    "        pass\n",
    "\n",
    "    \n",
    "    def binarize(self):\n",
    "        pass\n",
    "      \n",
    "            \n",
    "    \n",
    "        "
   ]
  },
  {
   "cell_type": "code",
   "execution_count": 6,
   "metadata": {},
   "outputs": [],
   "source": [
    "G = Grammar(['a', 'b'], ['A', 'B', 'S'])\n",
    "#S → ASB\n",
    "#A → aAS|a|ε \n",
    "#B → SbS|A|bb\n"
   ]
  },
  {
   "cell_type": "code",
   "execution_count": 7,
   "metadata": {},
   "outputs": [],
   "source": [
    "G.add_rule( ['S', [['A', 'S', 'B']] ]) \n",
    "G.add_rule( ['A', [['a', 'A', 'S'], ['a'], [G.empty]]] )\n",
    "G.add_rule( ['B', [['S', 'b', 'S'], ['A'], ['b', 'b']]] )\n",
    "\n"
   ]
  },
  {
   "cell_type": "code",
   "execution_count": 8,
   "metadata": {},
   "outputs": [
    {
     "name": "stdout",
     "output_type": "stream",
     "text": [
      "[['S', [['A', 'S', 'B']]], ['A', [['a', 'A', 'S'], ['a'], ['empty']]], ['B', [['S', 'b', 'S'], ['A'], ['b', 'b']]], ['S0', ['S']]]\n"
     ]
    }
   ],
   "source": [
    "G.remove_rhs_start()\n",
    "print(G.production_rules)"
   ]
  },
  {
   "cell_type": "code",
   "execution_count": null,
   "metadata": {},
   "outputs": [],
   "source": []
  },
  {
   "cell_type": "code",
   "execution_count": null,
   "metadata": {},
   "outputs": [],
   "source": []
  },
  {
   "cell_type": "code",
   "execution_count": null,
   "metadata": {},
   "outputs": [],
   "source": []
  },
  {
   "cell_type": "code",
   "execution_count": null,
   "metadata": {},
   "outputs": [],
   "source": []
  },
  {
   "cell_type": "code",
   "execution_count": null,
   "metadata": {},
   "outputs": [],
   "source": []
  },
  {
   "cell_type": "code",
   "execution_count": null,
   "metadata": {},
   "outputs": [],
   "source": []
  }
 ],
 "metadata": {
  "kernelspec": {
   "display_name": "Python 3",
   "language": "python",
   "name": "python3"
  },
  "language_info": {
   "codemirror_mode": {
    "name": "ipython",
    "version": 3
   },
   "file_extension": ".py",
   "mimetype": "text/x-python",
   "name": "python",
   "nbconvert_exporter": "python",
   "pygments_lexer": "ipython3",
   "version": "3.6.5"
  }
 },
 "nbformat": 4,
 "nbformat_minor": 2
}
